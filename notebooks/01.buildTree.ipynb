{
 "cells": [
  {
   "cell_type": "markdown",
   "metadata": {},
   "source": [
    "# Make tree for East Woods\n",
    "### v1, 2018-04-11<br>ahipp@mortonarb.org\n",
    "This is our first round of East Woods data analysis, and the tree that we produce today will not be the final version. But we can edit from here, and we'll use this notebook to perform and document analyses.\n",
    "\n",
    "Steps:\n",
    "1. Read species list and tree files\n",
    "2. Clean species names\n",
    "3. Prune tree\n",
    "4. Visualize tree, make sure things are working well\n",
    "5. Quantify what species are missing\n",
    "\n",
    "We'll stop at ths point for now; in the next round, we at least two options: \n",
    "* use the `makeMat` function from the [morton project](https://github.com/andrew-hipp/morton/blob/master/R/makeMat.R)... this is essentially a Phylomatic approach with a bit more control;\n",
    "* add in taxa using sequence data\n",
    "\n",
    "We'll figure this out later."
   ]
  },
  {
   "cell_type": "markdown",
   "metadata": {},
   "source": [
    "## Read data \n",
    "First, let's make a working directory and move into it."
   ]
  },
  {
   "cell_type": "code",
   "execution_count": null,
   "metadata": {
    "collapsed": true
   },
   "outputs": [],
   "source": [
    "if(!\"WORKING\" %in% dir('../')) dir.create('../WORKING')\n",
    "setwd('../WORKING')\n",
    "getwd()"
   ]
  },
  {
   "cell_type": "markdown",
   "metadata": {},
   "source": [
    "Now let's get our data. I've put what we want into a folder called 'DATA' that is at the same level as 'WORKING'. Our data are in three spreadsheets, one each for shrubs, trees and herbs. We'll deal with that later."
   ]
  },
  {
   "cell_type": "code",
   "execution_count": 27,
   "metadata": {},
   "outputs": [
    {
     "data": {
      "text/html": [
       "<table>\n",
       "<thead><tr><th scope=col>spp.herb.2007</th><th scope=col>spp.shrub.2007</th><th scope=col>spp.trees.2007</th></tr></thead>\n",
       "<tbody>\n",
       "\t<tr><td>2780</td><td>862 </td><td>4782</td></tr>\n",
       "\t<tr><td>   8</td><td> 10 </td><td>   8</td></tr>\n",
       "</tbody>\n",
       "</table>\n"
      ],
      "text/latex": [
       "\\begin{tabular}{lll}\n",
       " spp.herb.2007 & spp.shrub.2007 & spp.trees.2007\\\\\n",
       "\\hline\n",
       "\t 2780 & 862  & 4782\\\\\n",
       "\t    8 &  10  &    8\\\\\n",
       "\\end{tabular}\n"
      ],
      "text/markdown": [
       "\n",
       "spp.herb.2007 | spp.shrub.2007 | spp.trees.2007 | \n",
       "|---|---|\n",
       "| 2780 | 862  | 4782 | \n",
       "|    8 |  10  |    8 | \n",
       "\n",
       "\n"
      ],
      "text/plain": [
       "     spp.herb.2007 spp.shrub.2007 spp.trees.2007\n",
       "[1,] 2780          862            4782          \n",
       "[2,]    8           10               8          "
      ]
     },
     "metadata": {},
     "output_type": "display_data"
    },
    {
     "name": "stderr",
     "output_type": "stream",
     "text": [
      "Total spp entries: 8424\n"
     ]
    }
   ],
   "source": [
    "spp.list <- lapply(dir('../DATA', patt = 'spp.', full = T), read.csv, as.is = T)\n",
    "names(spp.list) <- gsub('.csv', '', dir('../DATA', patt = 'spp.'))\n",
    "temp <- sapply(spp.list, dim)\n",
    "temp\n",
    "message(paste('Total spp entries:', sum(temp[1,])))"
   ]
  },
  {
   "cell_type": "markdown",
   "metadata": {},
   "source": [
    "And let's get our tree. We'll use the `ape` package for most tree manipulations, and `ggtree` for visualization."
   ]
  },
  {
   "cell_type": "code",
   "execution_count": 18,
   "metadata": {},
   "outputs": [
    {
     "data": {
      "text/plain": [
       "\n",
       "Phylogenetic tree with 31749 tips and 31748 internal nodes.\n",
       "\n",
       "Tip labels:\n",
       "\tBlasia_pusilla, Lunularia_cruciata, Marchantia_polymorpha, Riccia_fluitans, Reboulia_hemisphaerica, Marchantia_foliacea, ...\n",
       "Node labels:\n",
       "\t, , , , , , ...\n",
       "\n",
       "Rooted; includes branch lengths."
      ]
     },
     "metadata": {},
     "output_type": "display_data"
    }
   ],
   "source": [
    "library(ape)\n",
    "#library(ggtree)\n",
    "\n",
    "if(!exists('tr.zanne')) tr.zanne <- read.tree('../DATA/phylo.zanne.tre') # check first, b/c it's a slow file to load\n",
    "tr.zanne"
   ]
  },
  {
   "cell_type": "code",
   "execution_count": null,
   "metadata": {
    "collapsed": true
   },
   "outputs": [],
   "source": [
    "plot(tr.zanne, 'fan', show.tip.label = F)"
   ]
  },
  {
   "cell_type": "markdown",
   "metadata": {},
   "source": [
    "## Clean species names\n",
    "Let's get one list of species names, and make sure they have underlines instead of spaces between the genus and epithet. Then let's check to make sure there are no monomials or trinomials. "
   ]
  },
  {
   "cell_type": "code",
   "execution_count": 40,
   "metadata": {},
   "outputs": [
    {
     "name": "stderr",
     "output_type": "stream",
     "text": [
      "Total spp entries: 8424\n",
      "Unique spp entries: 318\n",
      "Unique binomials: 636\n"
     ]
    },
    {
     "data": {
      "text/html": [
       "<table>\n",
       "<tbody>\n",
       "\t<tr><td>??             </td><td>Acalypha       </td><td>Acer           </td><td>Acer           </td><td>Acer           </td><td>Acer           </td><td>Acer           </td><td>Acer           </td><td>Acer           </td><td>Achillea       </td><td>⋯              </td><td>Viburnum       </td><td>Viburnum       </td><td>Viburnum       </td><td>Viburnum       </td><td>Viburnumspecies</td><td>Viburnum       </td><td>Vine           </td><td>Viola          </td><td>Viola          </td><td>Vitis          </td></tr>\n",
       "\t<tr><td>NA             </td><td>rhomboidea     </td><td>negundo        </td><td>nigrum         </td><td>platanoides    </td><td>rubrum         </td><td>saccharinum    </td><td>saccharum      </td><td>species        </td><td>millefolium    </td><td>⋯              </td><td>opulus         </td><td>prunifolium    </td><td>rafinesquianum </td><td>recognitum     </td><td>NA             </td><td>species        </td><td>species        </td><td>pubescens      </td><td>species        </td><td>riparia        </td></tr>\n",
       "</tbody>\n",
       "</table>\n"
      ],
      "text/latex": [
       "\\begin{tabular}{llllllllllllllllllllllllllllllllllllllllllllllllllllllllllllllllllllllllllllllllllllllllllllllllllllllllllllllllllllllllllllllllllllllllllllllllllllllllllllllllllllllllllllllllllllllllllllllllllllllllllllllllllllllllllllllllllllllllllllllllllllllllllllllllllllllllllllllllllllllllllllllllllllllllllllllllllllllllllllll}\n",
       "\t ??              & Acalypha        & Acer            & Acer            & Acer            & Acer            & Acer            & Acer            & Acer            & Achillea        & ⋯               & Viburnum        & Viburnum        & Viburnum        & Viburnum        & Viburnumspecies & Viburnum        & Vine            & Viola           & Viola           & Vitis          \\\\\n",
       "\t NA              & rhomboidea      & negundo         & nigrum          & platanoides     & rubrum          & saccharinum     & saccharum       & species         & millefolium     & ⋯               & opulus          & prunifolium     & rafinesquianum  & recognitum      & NA              & species         & species         & pubescens       & species         & riparia        \\\\\n",
       "\\end{tabular}\n"
      ],
      "text/markdown": [
       "\n",
       "| ??              | Acalypha        | Acer            | Acer            | Acer            | Acer            | Acer            | Acer            | Acer            | Achillea        | ⋯               | Viburnum        | Viburnum        | Viburnum        | Viburnum        | Viburnumspecies | Viburnum        | Vine            | Viola           | Viola           | Vitis           | \n",
       "| NA              | rhomboidea      | negundo         | nigrum          | platanoides     | rubrum          | saccharinum     | saccharum       | species         | millefolium     | ⋯               | opulus          | prunifolium     | rafinesquianum  | recognitum      | NA              | species         | species         | pubescens       | species         | riparia         | \n",
       "\n",
       "\n"
      ],
      "text/plain": [
       "     [,1] [,2]       [,3]    [,4]   [,5]        [,6]   [,7]        [,8]     \n",
       "[1,] ??   Acalypha   Acer    Acer   Acer        Acer   Acer        Acer     \n",
       "[2,] NA   rhomboidea negundo nigrum platanoides rubrum saccharinum saccharum\n",
       "     [,9]    [,10]       [,11] [,12]    [,13]       [,14]          [,15]     \n",
       "[1,] Acer    Achillea    ⋯     Viburnum Viburnum    Viburnum       Viburnum  \n",
       "[2,] species millefolium ⋯     opulus   prunifolium rafinesquianum recognitum\n",
       "     [,16]           [,17]    [,18]   [,19]     [,20]   [,21]  \n",
       "[1,] Viburnumspecies Viburnum Vine    Viola     Viola   Vitis  \n",
       "[2,] NA              species  species pubescens species riparia"
      ]
     },
     "metadata": {},
     "output_type": "display_data"
    }
   ],
   "source": [
    "spp.vect <- do.call(c, lapply(spp.list, function(x) x$species))\n",
    "message(paste('Total spp entries:', length(spp.vect)))\n",
    "spp.vect <- sort(unique(trimws(spp.vect)))\n",
    "message(paste('Unique spp entries:', length(spp.vect)))\n",
    "spp.vect <- gsub(\" \", \"_\", spp.vect)\n",
    "spp.vect <- sapply(strsplit(spp.vect, \"_\"), function(x) paste(x[1:2], sep = \"_\"))\n",
    "spp.vect <- unique(spp.vect)\n",
    "message(paste('Unique binomials:', length(spp.vect)))\n",
    "spp.vect"
   ]
  }
 ],
 "metadata": {
  "kernelspec": {
   "display_name": "R",
   "language": "R",
   "name": "ir"
  },
  "language_info": {
   "codemirror_mode": "r",
   "file_extension": ".r",
   "mimetype": "text/x-r-source",
   "name": "R",
   "pygments_lexer": "r",
   "version": "3.4.4"
  }
 },
 "nbformat": 4,
 "nbformat_minor": 2
}
